{
 "cells": [
  {
   "cell_type": "markdown",
   "id": "29a0c934-9d94-42e5-9075-133721f330d3",
   "metadata": {},
   "source": [
    "CreatedBy - Garvit Kumar Arya\n",
    "\n",
    "Date - 26 August 2021"
   ]
  },
  {
   "cell_type": "code",
   "execution_count": null,
   "id": "d678e00b-b978-4f56-8e90-8158e6143abc",
   "metadata": {},
   "outputs": [],
   "source": []
  },
  {
   "cell_type": "code",
   "execution_count": null,
   "id": "79a58365-2afb-43f3-af5d-f848e8da40f4",
   "metadata": {},
   "outputs": [],
   "source": []
  },
  {
   "cell_type": "code",
   "execution_count": null,
   "id": "08af20b7-b509-44d1-a38f-d8c5c5e7970d",
   "metadata": {},
   "outputs": [],
   "source": []
  }
 ],
 "metadata": {
  "kernelspec": {
   "display_name": "Python 3 (ipykernel)",
   "language": "python",
   "name": "python3"
  },
  "language_info": {
   "codemirror_mode": {
    "name": "ipython",
    "version": 3
   },
   "file_extension": ".py",
   "mimetype": "text/x-python",
   "name": "python",
   "nbconvert_exporter": "python",
   "pygments_lexer": "ipython3",
   "version": "3.8.10"
  }
 },
 "nbformat": 4,
 "nbformat_minor": 5
}
