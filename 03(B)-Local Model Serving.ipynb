{
 "cells": [
  {
   "cell_type": "markdown",
   "id": "e441e00d-c5eb-4b2e-b095-230c8e085a36",
   "metadata": {},
   "source": [
    "CreatedBy - Garvit Kumar Arya\n",
    "\n",
    "Date - 24 August 2021"
   ]
  },
  {
   "cell_type": "markdown",
   "id": "70475048-128d-4a1d-986c-6f8bc5aa48da",
   "metadata": {},
   "source": [
    "# Local Model Serving"
   ]
  },
  {
   "cell_type": "markdown",
   "id": "ba11e91f-25fc-47a4-9e99-4add019600c7",
   "metadata": {},
   "source": [
    "## Deploying the Model"
   ]
  },
  {
   "cell_type": "code",
   "execution_count": 1,
   "id": "7070b9b5-8601-4efc-9dba-a7a16d3af297",
   "metadata": {},
   "outputs": [],
   "source": [
    "import pandas as pd\n",
    "import mlflow\n",
    "import mlflow.sklearn\n",
    "\n",
    "import seaborn as sns\n",
    "\n",
    "import matplotlib.pyplot as plt\n",
    "\n",
    "from sklearn.preprocessing import StandardScaler\n",
    "from sklearn.model_selection import train_test_split\n",
    "from sklearn.metrics import roc_auc_score, accuracy_score, confusion_matrix\n",
    "\n",
    "import numpy as np\n",
    "import subprocess\n",
    "import json"
   ]
  },
  {
   "cell_type": "markdown",
   "id": "818776e6-180d-4f4a-9e9c-66f8d7514cf3",
   "metadata": {},
   "source": [
    "## Querying the Model"
   ]
  },
  {
   "cell_type": "code",
   "execution_count": 2,
   "id": "7118e5c0-7ed3-44d2-892f-22d7efa286da",
   "metadata": {},
   "outputs": [],
   "source": [
    "data_path = \"/home/garvit/Documents/work_area/Anaconda_Workspace/misc/MLOps with MLFlow/archive/creditcard.csv\"\n",
    "df = pd.read_csv(data_path)"
   ]
  },
  {
   "cell_type": "code",
   "execution_count": 3,
   "id": "30742074-dba3-48cc-9b7c-645f6f3c496e",
   "metadata": {},
   "outputs": [],
   "source": [
    "input_json = df.iloc[:80].drop([\"Time\", \"Class\"], axis=1).to_json(orient=\"split\")"
   ]
  },
  {
   "cell_type": "code",
   "execution_count": 7,
   "id": "cbe6164d-78d0-4f66-a1bb-0e21941b5fb0",
   "metadata": {},
   "outputs": [
    {
     "name": "stderr",
     "output_type": "stream",
     "text": [
      "  % Total    % Received % Xferd  Average Speed   Time    Time     Time  Current\n",
      "                                 Dload  Upload   Total   Spent    Left  Speed\n",
      "100 31202  100   240  100 30962   5333   671k --:--:-- --:--:-- --:--:--  677k\n"
     ]
    },
    {
     "data": {
      "text/html": [
       "<div>\n",
       "<style scoped>\n",
       "    .dataframe tbody tr th:only-of-type {\n",
       "        vertical-align: middle;\n",
       "    }\n",
       "\n",
       "    .dataframe tbody tr th {\n",
       "        vertical-align: top;\n",
       "    }\n",
       "\n",
       "    .dataframe thead th {\n",
       "        text-align: right;\n",
       "    }\n",
       "</style>\n",
       "<table border=\"1\" class=\"dataframe\">\n",
       "  <thead>\n",
       "    <tr style=\"text-align: right;\">\n",
       "      <th></th>\n",
       "      <th>0</th>\n",
       "      <th>1</th>\n",
       "      <th>2</th>\n",
       "      <th>3</th>\n",
       "      <th>4</th>\n",
       "      <th>5</th>\n",
       "      <th>6</th>\n",
       "      <th>7</th>\n",
       "      <th>8</th>\n",
       "      <th>9</th>\n",
       "      <th>...</th>\n",
       "      <th>70</th>\n",
       "      <th>71</th>\n",
       "      <th>72</th>\n",
       "      <th>73</th>\n",
       "      <th>74</th>\n",
       "      <th>75</th>\n",
       "      <th>76</th>\n",
       "      <th>77</th>\n",
       "      <th>78</th>\n",
       "      <th>79</th>\n",
       "    </tr>\n",
       "  </thead>\n",
       "  <tbody>\n",
       "    <tr>\n",
       "      <th>0</th>\n",
       "      <td>1</td>\n",
       "      <td>1</td>\n",
       "      <td>1</td>\n",
       "      <td>1</td>\n",
       "      <td>1</td>\n",
       "      <td>1</td>\n",
       "      <td>1</td>\n",
       "      <td>1</td>\n",
       "      <td>1</td>\n",
       "      <td>1</td>\n",
       "      <td>...</td>\n",
       "      <td>1</td>\n",
       "      <td>1</td>\n",
       "      <td>1</td>\n",
       "      <td>1</td>\n",
       "      <td>1</td>\n",
       "      <td>1</td>\n",
       "      <td>1</td>\n",
       "      <td>1</td>\n",
       "      <td>1</td>\n",
       "      <td>1</td>\n",
       "    </tr>\n",
       "  </tbody>\n",
       "</table>\n",
       "<p>1 rows × 80 columns</p>\n",
       "</div>"
      ],
      "text/plain": [
       "   0   1   2   3   4   5   6   7   8   9   ...  70  71  72  73  74  75  76  \\\n",
       "0   1   1   1   1   1   1   1   1   1   1  ...   1   1   1   1   1   1   1   \n",
       "\n",
       "   77  78  79  \n",
       "0   1   1   1  \n",
       "\n",
       "[1 rows x 80 columns]"
      ]
     },
     "execution_count": 7,
     "metadata": {},
     "output_type": "execute_result"
    }
   ],
   "source": [
    "proc = subprocess.run([\"curl\", \"-X\", \"POST\", \"-H\", \"Content-Type:application/json; format=pandas-split\", \"--data\", \n",
    "                       input_json, \"http://127.0.0.1:1235/invocations\"], stdout=subprocess.PIPE, encoding='utf-8')\n",
    "\n",
    "output = proc.stdout\n",
    "df2 = pd.DataFrame([json.loads(output)])\n",
    "df2"
   ]
  },
  {
   "cell_type": "code",
   "execution_count": 6,
   "id": "5161a339-f3d5-4b23-9d02-a6dc8d9b86c0",
   "metadata": {},
   "outputs": [
    {
     "data": {
      "text/plain": [
       "\"This predictor only supports the following content types, ['text/csv', 'application/json', 'application/json; format=pandas-records', 'application/json; format=pandas-split', 'application/json-numpy-split']. Got 'application/x-www-form-urlencoded'.\""
      ]
     },
     "execution_count": 6,
     "metadata": {},
     "output_type": "execute_result"
    }
   ],
   "source": [
    "output"
   ]
  },
  {
   "cell_type": "markdown",
   "id": "ff64322c-f31b-43f9-8cda-5374552be95e",
   "metadata": {},
   "source": [
    "### Querying Without Scaling"
   ]
  },
  {
   "cell_type": "code",
   "execution_count": 8,
   "id": "f78e766d-02e1-4b94-ae09-54376e0ef498",
   "metadata": {},
   "outputs": [
    {
     "name": "stdout",
     "output_type": "stream",
     "text": [
      "Eval Acc 0.075\n",
      "Eval AUC 0.5379746835443038\n"
     ]
    },
    {
     "name": "stderr",
     "output_type": "stream",
     "text": [
      "/home/garvit/Documents/work_area/Anaconda_Workspace/misc/MLOps with MLFlow/mlflowEnv/lib/python3.8/site-packages/pandas/core/indexing.py:1732: SettingWithCopyWarning: \n",
      "A value is trying to be set on a copy of a slice from a DataFrame\n",
      "\n",
      "See the caveats in the documentation: https://pandas.pydata.org/pandas-docs/stable/user_guide/indexing.html#returning-a-view-versus-a-copy\n",
      "  self._setitem_single_block(indexer, value, name)\n"
     ]
    }
   ],
   "source": [
    "y_true = df.iloc[:80].Class\n",
    "df2 = df2.T\n",
    "eval_acc = accuracy_score(y_true, df2)\n",
    "y_true.iloc[-1] = 1\n",
    "eval_auc = roc_auc_score(y_true, df2)\n",
    "print(\"Eval Acc\", eval_acc)\n",
    "print(\"Eval AUC\", eval_auc)"
   ]
  },
  {
   "cell_type": "markdown",
   "id": "f1accd09-6f98-44e9-b1af-1396d72a2b52",
   "metadata": {},
   "source": [
    "### Querying with Scaling"
   ]
  },
  {
   "cell_type": "code",
   "execution_count": 9,
   "id": "2eafb6de-d7da-4c8b-9425-9403b220c76a",
   "metadata": {},
   "outputs": [
    {
     "data": {
      "text/plain": [
       "StandardScaler()"
      ]
     },
     "execution_count": 9,
     "metadata": {},
     "output_type": "execute_result"
    }
   ],
   "source": [
    "normal = df[df.Class == 0].sample(frac=0.5, random_state=2020).reset_index(drop=True)\n",
    "anomaly = df[df.Class == 1]\n",
    "\n",
    "normal_train, normal_test = train_test_split(normal,test_size = 0.2, random_state = 2020)\n",
    "anomaly_train, anomaly_test = train_test_split(anomaly, test_size = 0.2, random_state = 2020)\n",
    "\n",
    "scaler = StandardScaler()\n",
    "scaler.fit(pd.concat((normal, anomaly)).drop([\"Time\", \"Class\"], axis=1))\n"
   ]
  },
  {
   "cell_type": "code",
   "execution_count": 10,
   "id": "9714c1ce-e501-4656-8b13-739a2ffafd95",
   "metadata": {},
   "outputs": [],
   "source": [
    "scaled_selection = scaler.transform(df.iloc[:80].drop([\"Time\", \"Class\"], axis=1))\n",
    "input_json = pd.DataFrame(scaled_selection).to_json(orient=\"split\")\n"
   ]
  },
  {
   "cell_type": "code",
   "execution_count": 11,
   "id": "2854ded0-af6c-4337-8766-193650872a62",
   "metadata": {},
   "outputs": [
    {
     "name": "stderr",
     "output_type": "stream",
     "text": [
      "  % Total    % Received % Xferd  Average Speed   Time    Time     Time  Current\n",
      "                                 Dload  Upload   Total   Spent    Left  Speed\n",
      "100 31760  100   240  100 31520  21818  2798k --:--:-- --:--:-- --:--:-- 2819k\n"
     ]
    },
    {
     "data": {
      "text/html": [
       "<div>\n",
       "<style scoped>\n",
       "    .dataframe tbody tr th:only-of-type {\n",
       "        vertical-align: middle;\n",
       "    }\n",
       "\n",
       "    .dataframe tbody tr th {\n",
       "        vertical-align: top;\n",
       "    }\n",
       "\n",
       "    .dataframe thead th {\n",
       "        text-align: right;\n",
       "    }\n",
       "</style>\n",
       "<table border=\"1\" class=\"dataframe\">\n",
       "  <thead>\n",
       "    <tr style=\"text-align: right;\">\n",
       "      <th></th>\n",
       "      <th>0</th>\n",
       "      <th>1</th>\n",
       "      <th>2</th>\n",
       "      <th>3</th>\n",
       "      <th>4</th>\n",
       "      <th>5</th>\n",
       "      <th>6</th>\n",
       "      <th>7</th>\n",
       "      <th>8</th>\n",
       "      <th>9</th>\n",
       "      <th>...</th>\n",
       "      <th>70</th>\n",
       "      <th>71</th>\n",
       "      <th>72</th>\n",
       "      <th>73</th>\n",
       "      <th>74</th>\n",
       "      <th>75</th>\n",
       "      <th>76</th>\n",
       "      <th>77</th>\n",
       "      <th>78</th>\n",
       "      <th>79</th>\n",
       "    </tr>\n",
       "  </thead>\n",
       "  <tbody>\n",
       "    <tr>\n",
       "      <th>0</th>\n",
       "      <td>0</td>\n",
       "      <td>0</td>\n",
       "      <td>0</td>\n",
       "      <td>0</td>\n",
       "      <td>0</td>\n",
       "      <td>0</td>\n",
       "      <td>0</td>\n",
       "      <td>0</td>\n",
       "      <td>0</td>\n",
       "      <td>0</td>\n",
       "      <td>...</td>\n",
       "      <td>0</td>\n",
       "      <td>0</td>\n",
       "      <td>0</td>\n",
       "      <td>0</td>\n",
       "      <td>0</td>\n",
       "      <td>0</td>\n",
       "      <td>0</td>\n",
       "      <td>0</td>\n",
       "      <td>0</td>\n",
       "      <td>0</td>\n",
       "    </tr>\n",
       "  </tbody>\n",
       "</table>\n",
       "<p>1 rows × 80 columns</p>\n",
       "</div>"
      ],
      "text/plain": [
       "   0   1   2   3   4   5   6   7   8   9   ...  70  71  72  73  74  75  76  \\\n",
       "0   0   0   0   0   0   0   0   0   0   0  ...   0   0   0   0   0   0   0   \n",
       "\n",
       "   77  78  79  \n",
       "0   0   0   0  \n",
       "\n",
       "[1 rows x 80 columns]"
      ]
     },
     "execution_count": 11,
     "metadata": {},
     "output_type": "execute_result"
    }
   ],
   "source": [
    "proc = subprocess.run([\"curl\", \"-X\", \"POST\", \"-H\",\n",
    "\"Content-Type:application/json; format=pandas-split\",\n",
    " \"--data\", input_json, \"http://127.0.0.1:1235/invocations\"], stdout=subprocess.PIPE, encoding='utf-8')\n",
    "\n",
    "output = proc.stdout\n",
    "preds = pd.DataFrame([json.loads(output)])\n",
    "preds\n"
   ]
  },
  {
   "cell_type": "code",
   "execution_count": 12,
   "id": "b1e92f1f-f3b3-4e71-bf44-7368d771ae6f",
   "metadata": {},
   "outputs": [
    {
     "name": "stdout",
     "output_type": "stream",
     "text": [
      "Eval Acc 0.9875\n",
      "Eval AUC 0.5\n"
     ]
    },
    {
     "name": "stderr",
     "output_type": "stream",
     "text": [
      "/home/garvit/Documents/work_area/Anaconda_Workspace/misc/MLOps with MLFlow/mlflowEnv/lib/python3.8/site-packages/pandas/core/indexing.py:1732: SettingWithCopyWarning: \n",
      "A value is trying to be set on a copy of a slice from a DataFrame\n",
      "\n",
      "See the caveats in the documentation: https://pandas.pydata.org/pandas-docs/stable/user_guide/indexing.html#returning-a-view-versus-a-copy\n",
      "  self._setitem_single_block(indexer, value, name)\n"
     ]
    }
   ],
   "source": [
    "y_true = df.iloc[:80].Class\n",
    "preds = preds.T\n",
    "eval_acc = accuracy_score(y_true, preds)\n",
    "y_true.iloc[-1] = 1\n",
    "eval_auc = roc_auc_score(y_true, preds)\n",
    "print(\"Eval Acc\", eval_acc)\n",
    "print(\"Eval AUC\", eval_auc)"
   ]
  },
  {
   "cell_type": "markdown",
   "id": "5ce8f0cf-1565-4bba-bf82-d9bbf4f0fa5c",
   "metadata": {},
   "source": [
    "### Batch Querying"
   ]
  },
  {
   "cell_type": "code",
   "execution_count": 15,
   "id": "4e9798fd-8281-4736-9bd4-e80bbbda1bf1",
   "metadata": {
    "collapsed": true,
    "jupyter": {
     "outputs_hidden": true
    },
    "tags": []
   },
   "outputs": [
    {
     "name": "stderr",
     "output_type": "stream",
     "text": [
      "  % Total    % Received % Xferd  Average Speed   Time    Time     Time  Current\n",
      "                                 Dload  Upload   Total   Spent    Left  Speed\n",
      "100 31760  100   240  100 31520  26666  3420k --:--:-- --:--:-- --:--:-- 3446k\n",
      "  % Total    % Received % Xferd  Average Speed   Time    Time     Time  Current\n",
      "                                 Dload  Upload   Total   Spent    Left  Speed\n",
      "100 31771  100   240  100 31531  17142  2199k --:--:-- --:--:-- --:--:-- 2216k\n",
      "  % Total    % Received % Xferd  Average Speed   Time    Time     Time  Current\n",
      "                                 Dload  Upload   Total   Spent    Left  Speed\n",
      "100 31721  100   240  100 31481  20000  2561k --:--:-- --:--:-- --:--:-- 2581k\n",
      "  % Total    % Received % Xferd  Average Speed   Time    Time     Time  Current\n",
      "                                 Dload  Upload   Total   Spent    Left  Speed\n",
      "100 31805  100   240  100 31565  26666  3425k --:--:-- --:--:-- --:--:-- 3451k\n",
      "  % Total    % Received % Xferd  Average Speed   Time    Time     Time  Current\n",
      "                                 Dload  Upload   Total   Spent    Left  Speed\n",
      "100 31769  100   240  100 31529  30000  3848k --:--:-- --:--:-- --:--:-- 3878k\n",
      "  % Total    % Received % Xferd  Average Speed   Time    Time     Time  Current\n",
      "                                 Dload  Upload   Total   Spent    Left  Speed\n",
      "100 31770  100   240  100 31530  30000  3848k --:--:-- --:--:-- --:--:-- 3878k\n",
      "  % Total    % Received % Xferd  Average Speed   Time    Time     Time  Current\n",
      "                                 Dload  Upload   Total   Spent    Left  Speed\n",
      "100 31733  100   240  100 31493  26666  3417k --:--:-- --:--:-- --:--:-- 3443k\n",
      "  % Total    % Received % Xferd  Average Speed   Time    Time     Time  Current\n",
      "                                 Dload  Upload   Total   Spent    Left  Speed\n",
      "100 31805  100   240  100 31565  26666  3425k --:--:-- --:--:-- --:--:-- 3451k\n",
      "  % Total    % Received % Xferd  Average Speed   Time    Time     Time  Current\n",
      "                                 Dload  Upload   Total   Spent    Left  Speed\n",
      "100 31828  100   240  100 31588  30000  3855k --:--:-- --:--:-- --:--:-- 3885k\n",
      "  % Total    % Received % Xferd  Average Speed   Time    Time     Time  Current\n",
      "                                 Dload  Upload   Total   Spent    Left  Speed\n",
      "100 31834  100   240  100 31594  34285  4407k --:--:-- --:--:-- --:--:-- 4441k\n",
      "  % Total    % Received % Xferd  Average Speed   Time    Time     Time  Current\n",
      "                                 Dload  Upload   Total   Spent    Left  Speed\n",
      "100 31779  100   240  100 31539  30000  3849k --:--:-- --:--:-- --:--:-- 3879k\n",
      "  % Total    % Received % Xferd  Average Speed   Time    Time     Time  Current\n",
      "                                 Dload  Upload   Total   Spent    Left  Speed\n",
      "100 31813  100   240  100 31573  30000  3854k --:--:-- --:--:-- --:--:-- 3883k\n",
      "  % Total    % Received % Xferd  Average Speed   Time    Time     Time  Current\n",
      "                                 Dload  Upload   Total   Spent    Left  Speed\n",
      "100 31761  100   240  100 31521  30000  3847k --:--:-- --:--:-- --:--:-- 3877k\n",
      "  % Total    % Received % Xferd  Average Speed   Time    Time     Time  Current\n",
      "                                 Dload  Upload   Total   Spent    Left  Speed\n",
      "100 31798  100   240  100 31558  34285  4402k --:--:-- --:--:-- --:--:-- 4436k\n",
      "  % Total    % Received % Xferd  Average Speed   Time    Time     Time  Current\n",
      "                                 Dload  Upload   Total   Spent    Left  Speed\n",
      "100 31802  100   240  100 31562  30000  3852k --:--:-- --:--:-- --:--:-- 3882k\n",
      "  % Total    % Received % Xferd  Average Speed   Time    Time     Time  Current\n",
      "                                 Dload  Upload   Total   Spent    Left  Speed\n",
      "100 31779  100   240  100 31539  30000  3849k --:--:-- --:--:-- --:--:-- 3879k\n",
      "  % Total    % Received % Xferd  Average Speed   Time    Time     Time  Current\n",
      "                                 Dload  Upload   Total   Spent    Left  Speed\n",
      "100 31772  100   240  100 31532  30000  3849k --:--:-- --:--:-- --:--:-- 3878k\n",
      "  % Total    % Received % Xferd  Average Speed   Time    Time     Time  Current\n",
      "                                 Dload  Upload   Total   Spent    Left  Speed\n",
      "100 31831  100   240  100 31591  26666  3427k --:--:-- --:--:-- --:--:-- 3885k\n",
      "  % Total    % Received % Xferd  Average Speed   Time    Time     Time  Current\n",
      "                                 Dload  Upload   Total   Spent    Left  Speed\n",
      "100 31759  100   240  100 31519  30000  3847k --:--:-- --:--:-- --:--:-- 3876k\n",
      "  % Total    % Received % Xferd  Average Speed   Time    Time     Time  Current\n",
      "                                 Dload  Upload   Total   Spent    Left  Speed\n",
      "100 31792  100   240  100 31552  30000  3851k --:--:-- --:--:-- --:--:-- 3880k\n",
      "  % Total    % Received % Xferd  Average Speed   Time    Time     Time  Current\n",
      "                                 Dload  Upload   Total   Spent    Left  Speed\n",
      "100 31780  100   240  100 31540  26666  3422k --:--:-- --:--:-- --:--:-- 3448k\n",
      "  % Total    % Received % Xferd  Average Speed   Time    Time     Time  Current\n",
      "                                 Dload  Upload   Total   Spent    Left  Speed\n",
      "100 31742  100   240  100 31502  26666  3418k --:--:-- --:--:-- --:--:-- 3444k\n",
      "  % Total    % Received % Xferd  Average Speed   Time    Time     Time  Current\n",
      "                                 Dload  Upload   Total   Spent    Left  Speed\n",
      "100 31813  100   240  100 31573  34285  4404k --:--:-- --:--:-- --:--:-- 5177k\n",
      "  % Total    % Received % Xferd  Average Speed   Time    Time     Time  Current\n",
      "                                 Dload  Upload   Total   Spent    Left  Speed\n",
      "100 31791  100   240  100 31551  34285  4401k --:--:-- --:--:-- --:--:-- 4435k\n",
      "  % Total    % Received % Xferd  Average Speed   Time    Time     Time  Current\n",
      "                                 Dload  Upload   Total   Spent    Left  Speed\n",
      "100 31804  100   240  100 31564  34285  4403k --:--:-- --:--:-- --:--:-- 4436k\n",
      "  % Total    % Received % Xferd  Average Speed   Time    Time     Time  Current\n",
      "                                 Dload  Upload   Total   Spent    Left  Speed\n",
      "100 31774  100   240  100 31534  30000  3849k --:--:-- --:--:-- --:--:-- 3878k\n",
      "  % Total    % Received % Xferd  Average Speed   Time    Time     Time  Current\n",
      "                                 Dload  Upload   Total   Spent    Left  Speed\n",
      "100 31804  100   240  100 31564  34285  4403k --:--:-- --:--:-- --:--:-- 4436k\n",
      "  % Total    % Received % Xferd  Average Speed   Time    Time     Time  Current\n",
      "                                 Dload  Upload   Total   Spent    Left  Speed\n",
      "100 31741  100   240  100 31501  30000  3845k --:--:-- --:--:-- --:--:-- 3444k\n",
      "  % Total    % Received % Xferd  Average Speed   Time    Time     Time  Current\n",
      "                                 Dload  Upload   Total   Spent    Left  Speed\n",
      "100 31786  100   240  100 31546  26666  3422k --:--:-- --:--:-- --:--:-- 3449k\n",
      "  % Total    % Received % Xferd  Average Speed   Time    Time     Time  Current\n",
      "                                 Dload  Upload   Total   Spent    Left  Speed\n",
      "100 31751  100   240  100 31511  30000  3846k --:--:-- --:--:-- --:--:-- 3875k\n",
      "  % Total    % Received % Xferd  Average Speed   Time    Time     Time  Current\n",
      "                                 Dload  Upload   Total   Spent    Left  Speed\n",
      "100 31754  100   240  100 31514  30000  3846k --:--:-- --:--:-- --:--:-- 3876k\n",
      "  % Total    % Received % Xferd  Average Speed   Time    Time     Time  Current\n",
      "                                 Dload  Upload   Total   Spent    Left  Speed\n",
      "100 31748  100   240  100 31508  30000  3846k --:--:-- --:--:-- --:--:-- 3875k\n",
      "  % Total    % Received % Xferd  Average Speed   Time    Time     Time  Current\n",
      "                                 Dload  Upload   Total   Spent    Left  Speed\n",
      "100 31793  100   240  100 31553  30000  3851k --:--:-- --:--:-- --:--:-- 3880k\n",
      "  % Total    % Received % Xferd  Average Speed   Time    Time     Time  Current\n",
      "                                 Dload  Upload   Total   Spent    Left  Speed\n",
      "100 31758  100   240  100 31518  30000  3847k --:--:-- --:--:-- --:--:-- 3876k\n",
      "  % Total    % Received % Xferd  Average Speed   Time    Time     Time  Current\n",
      "                                 Dload  Upload   Total   Spent    Left  Speed\n",
      "100 31766  100   240  100 31526  30000  3848k --:--:-- --:--:-- --:--:-- 3877k\n",
      "  % Total    % Received % Xferd  Average Speed   Time    Time     Time  Current\n",
      "                                 Dload  Upload   Total   Spent    Left  Speed\n",
      "100 31816  100   240  100 31576  30000  3854k --:--:-- --:--:-- --:--:-- 3883k\n",
      "  % Total    % Received % Xferd  Average Speed   Time    Time     Time  Current\n",
      "                                 Dload  Upload   Total   Spent    Left  Speed\n",
      "100 31820  100   240  100 31580  30000  3854k --:--:-- --:--:-- --:--:-- 3884k\n",
      "  % Total    % Received % Xferd  Average Speed   Time    Time     Time  Current\n",
      "                                 Dload  Upload   Total   Spent    Left  Speed\n",
      "100 31744  100   240  100 31504  26666  3418k --:--:-- --:--:-- --:--:-- 3444k\n",
      "  % Total    % Received % Xferd  Average Speed   Time    Time     Time  Current\n",
      "                                 Dload  Upload   Total   Spent    Left  Speed\n",
      "100 31754  100   240  100 31514  26666  3419k --:--:-- --:--:-- --:--:-- 3445k\n",
      "  % Total    % Received % Xferd  Average Speed   Time    Time     Time  Current\n",
      "                                 Dload  Upload   Total   Spent    Left  Speed\n",
      "100 31781  100   240  100 31541  24000  3080k --:--:-- --:--:-- --:--:-- 3103k\n",
      "  % Total    % Received % Xferd  Average Speed   Time    Time     Time  Current\n",
      "                                 Dload  Upload   Total   Spent    Left  Speed\n",
      "100 31786  100   240  100 31546  30000  3850k --:--:-- --:--:-- --:--:-- 3880k\n",
      "  % Total    % Received % Xferd  Average Speed   Time    Time     Time  Current\n",
      "                                 Dload  Upload   Total   Spent    Left  Speed\n",
      "100 31736  100   240  100 31496  26666  3417k --:--:-- --:--:-- --:--:-- 3874k\n",
      "  % Total    % Received % Xferd  Average Speed   Time    Time     Time  Current\n",
      "                                 Dload  Upload   Total   Spent    Left  Speed\n",
      "100 31829  100   240  100 31589  24000  3084k --:--:-- --:--:-- --:--:-- 3108k\n",
      "  % Total    % Received % Xferd  Average Speed   Time    Time     Time  Current\n",
      "                                 Dload  Upload   Total   Spent    Left  Speed\n",
      "100 31745  100   240  100 31505  21818  2796k --:--:-- --:--:-- --:--:-- 3100k\n",
      "  % Total    % Received % Xferd  Average Speed   Time    Time     Time  Current\n",
      "                                 Dload  Upload   Total   Spent    Left  Speed\n",
      "100 31726  100   240  100 31486  26666  3416k --:--:-- --:--:-- --:--:-- 3442k\n",
      "  % Total    % Received % Xferd  Average Speed   Time    Time     Time  Current\n",
      "                                 Dload  Upload   Total   Spent    Left  Speed\n",
      "100 31765  100   240  100 31525  26666  3420k --:--:-- --:--:-- --:--:-- 3877k\n",
      "  % Total    % Received % Xferd  Average Speed   Time    Time     Time  Current\n",
      "                                 Dload  Upload   Total   Spent    Left  Speed\n",
      "100 31698  100   240  100 31458  26666  3413k --:--:-- --:--:-- --:--:-- 3439k\n",
      "  % Total    % Received % Xferd  Average Speed   Time    Time     Time  Current\n",
      "                                 Dload  Upload   Total   Spent    Left  Speed\n",
      "100 31754  100   240  100 31514  26666  3419k --:--:-- --:--:-- --:--:-- 3445k\n",
      "  % Total    % Received % Xferd  Average Speed   Time    Time     Time  Current\n",
      "                                 Dload  Upload   Total   Spent    Left  Speed\n",
      "100 31780  100   240  100 31540  30000  3850k --:--:-- --:--:-- --:--:-- 3879k\n",
      "  % Total    % Received % Xferd  Average Speed   Time    Time     Time  Current\n",
      "                                 Dload  Upload   Total   Spent    Left  Speed\n",
      "100 31794  100   240  100 31554  34285  4402k --:--:-- --:--:-- --:--:-- 4435k\n",
      "  % Total    % Received % Xferd  Average Speed   Time    Time     Time  Current\n",
      "                                 Dload  Upload   Total   Spent    Left  Speed\n",
      "100 31713  100   240  100 31473  30000  3841k --:--:-- --:--:-- --:--:-- 3871k\n",
      "  % Total    % Received % Xferd  Average Speed   Time    Time     Time  Current\n",
      "                                 Dload  Upload   Total   Spent    Left  Speed\n",
      "100 31710  100   240  100 31470  30000  3841k --:--:-- --:--:-- --:--:-- 3870k\n",
      "  % Total    % Received % Xferd  Average Speed   Time    Time     Time  Current\n",
      "                                 Dload  Upload   Total   Spent    Left  Speed\n",
      "100 31692  100   240  100 31452  30000  3839k --:--:-- --:--:-- --:--:-- 3868k\n",
      "  % Total    % Received % Xferd  Average Speed   Time    Time     Time  Current\n",
      "                                 Dload  Upload   Total   Spent    Left  Speed\n",
      "100 31671  100   240  100 31431  30000  3836k --:--:-- --:--:-- --:--:-- 3866k\n",
      "  % Total    % Received % Xferd  Average Speed   Time    Time     Time  Current\n",
      "                                 Dload  Upload   Total   Spent    Left  Speed\n",
      "100 31659  100   240  100 31419  24000  3068k --:--:-- --:--:-- --:--:-- 3091k\n",
      "  % Total    % Received % Xferd  Average Speed   Time    Time     Time  Current\n",
      "                                 Dload  Upload   Total   Spent    Left  Speed\n",
      "100 31690  100   240  100 31450  30000  3839k --:--:-- --:--:-- --:--:-- 3868k\n",
      "  % Total    % Received % Xferd  Average Speed   Time    Time     Time  Current\n",
      "                                 Dload  Upload   Total   Spent    Left  Speed\n",
      "100 31730  100   240  100 31490  24000  3075k --:--:-- --:--:-- --:--:-- 3098k\n",
      "  % Total    % Received % Xferd  Average Speed   Time    Time     Time  Current\n",
      "                                 Dload  Upload   Total   Spent    Left  Speed\n",
      "100 31729  100   240  100 31489  24000  3075k --:--:-- --:--:-- --:--:-- 3098k\n",
      "  % Total    % Received % Xferd  Average Speed   Time    Time     Time  Current\n",
      "                                 Dload  Upload   Total   Spent    Left  Speed\n",
      "100 31749  100   240  100 31509  26666  3418k --:--:-- --:--:-- --:--:-- 3444k\n",
      "  % Total    % Received % Xferd  Average Speed   Time    Time     Time  Current\n",
      "                                 Dload  Upload   Total   Spent    Left  Speed\n",
      "100 31684  100   240  100 31444  24000  3070k --:--:-- --:--:-- --:--:-- 3094k\n",
      "  % Total    % Received % Xferd  Average Speed   Time    Time     Time  Current\n",
      "                                 Dload  Upload   Total   Spent    Left  Speed\n",
      "100 31665  100   240  100 31425  26666  3409k --:--:-- --:--:-- --:--:-- 3435k\n",
      "  % Total    % Received % Xferd  Average Speed   Time    Time     Time  Current\n",
      "                                 Dload  Upload   Total   Spent    Left  Speed\n",
      "100 31684  100   240  100 31444  26666  3411k --:--:-- --:--:-- --:--:-- 3437k\n",
      "  % Total    % Received % Xferd  Average Speed   Time    Time     Time  Current\n",
      "                                 Dload  Upload   Total   Spent    Left  Speed\n",
      "100 31695  100   240  100 31455  30000  3839k --:--:-- --:--:-- --:--:-- 3869k\n",
      "  % Total    % Received % Xferd  Average Speed   Time    Time     Time  Current\n",
      "                                 Dload  Upload   Total   Spent    Left  Speed\n",
      "100 31709  100   240  100 31469  30000  3841k --:--:-- --:--:-- --:--:-- 4423k\n",
      "  % Total    % Received % Xferd  Average Speed   Time    Time     Time  Current\n",
      "                                 Dload  Upload   Total   Spent    Left  Speed\n",
      "100 31696  100   240  100 31456  30000  3839k --:--:-- --:--:-- --:--:-- 4421k\n",
      "  % Total    % Received % Xferd  Average Speed   Time    Time     Time  Current\n",
      "                                 Dload  Upload   Total   Spent    Left  Speed\n",
      "100 31753  100   240  100 31513  30000  3846k --:--:-- --:--:-- --:--:-- 3876k\n",
      "  % Total    % Received % Xferd  Average Speed   Time    Time     Time  Current\n",
      "                                 Dload  Upload   Total   Spent    Left  Speed\n",
      "100 31714  100   240  100 31474  34285  4390k --:--:-- --:--:-- --:--:-- 4424k\n",
      "  % Total    % Received % Xferd  Average Speed   Time    Time     Time  Current\n",
      "                                 Dload  Upload   Total   Spent    Left  Speed\n",
      "100 31751  100   240  100 31511  34285  4396k --:--:-- --:--:-- --:--:-- 4429k\n",
      "  % Total    % Received % Xferd  Average Speed   Time    Time     Time  Current\n",
      "                                 Dload  Upload   Total   Spent    Left  Speed\n",
      "100 31697  100   240  100 31457  34285  4388k --:--:-- --:--:-- --:--:-- 4422k\n",
      "  % Total    % Received % Xferd  Average Speed   Time    Time     Time  Current\n",
      "                                 Dload  Upload   Total   Spent    Left  Speed\n",
      "100 31735  100   240  100 31495  30000  3844k --:--:-- --:--:-- --:--:-- 3873k\n",
      "  % Total    % Received % Xferd  Average Speed   Time    Time     Time  Current\n",
      "                                 Dload  Upload   Total   Spent    Left  Speed\n",
      "100 31732  100   240  100 31492  30000  3844k --:--:-- --:--:-- --:--:-- 4426k\n",
      "  % Total    % Received % Xferd  Average Speed   Time    Time     Time  Current\n",
      "                                 Dload  Upload   Total   Spent    Left  Speed\n",
      "100 31712  100   240  100 31472  34285  4390k --:--:-- --:--:-- --:--:-- 4424k\n",
      "  % Total    % Received % Xferd  Average Speed   Time    Time     Time  Current\n",
      "                                 Dload  Upload   Total   Spent    Left  Speed\n",
      "100 31705  100   240  100 31465  34285  4389k --:--:-- --:--:-- --:--:-- 4423k\n",
      "  % Total    % Received % Xferd  Average Speed   Time    Time     Time  Current\n",
      "                                 Dload  Upload   Total   Spent    Left  Speed\n",
      "100 31704  100   240  100 31464  34285  4389k --:--:-- --:--:-- --:--:-- 4422k\n",
      "  % Total    % Received % Xferd  Average Speed   Time    Time     Time  Current\n",
      "                                 Dload  Upload   Total   Spent    Left  Speed\n",
      "100 31700  100   240  100 31460  34285  4388k --:--:-- --:--:-- --:--:-- 4422k\n",
      "  % Total    % Received % Xferd  Average Speed   Time    Time     Time  Current\n",
      "                                 Dload  Upload   Total   Spent    Left  Speed\n",
      "100 31707  100   240  100 31467  34285  4389k --:--:-- --:--:-- --:--:-- 4423k\n",
      "  % Total    % Received % Xferd  Average Speed   Time    Time     Time  Current\n",
      "                                 Dload  Upload   Total   Spent    Left  Speed\n",
      "100 31775  100   240  100 31535  40000  5132k --:--:-- --:--:-- --:--:-- 5171k\n",
      "  % Total    % Received % Xferd  Average Speed   Time    Time     Time  Current\n",
      "                                 Dload  Upload   Total   Spent    Left  Speed\n",
      "100 31752  100   240  100 31512  34285  4396k --:--:-- --:--:-- --:--:-- 4429k\n",
      "  % Total    % Received % Xferd  Average Speed   Time    Time     Time  Current\n",
      "                                 Dload  Upload   Total   Spent    Left  Speed\n",
      "100 31724  100   240  100 31484  30000  3843k --:--:-- --:--:-- --:--:-- 3872k\n",
      "  % Total    % Received % Xferd  Average Speed   Time    Time     Time  Current\n",
      "                                 Dload  Upload   Total   Spent    Left  Speed\n",
      "100 31713  100   240  100 31473  30000  3841k --:--:-- --:--:-- --:--:-- 3871k\n",
      "  % Total    % Received % Xferd  Average Speed   Time    Time     Time  Current\n",
      "                                 Dload  Upload   Total   Spent    Left  Speed\n",
      "100 31733  100   240  100 31493  34285  4393k --:--:-- --:--:-- --:--:-- 4427k\n",
      "  % Total    % Received % Xferd  Average Speed   Time    Time     Time  Current\n",
      "                                 Dload  Upload   Total   Spent    Left  Speed\n",
      "100 31757  100   240  100 31517  34285  4396k --:--:-- --:--:-- --:--:-- 4430k\n",
      "  % Total    % Received % Xferd  Average Speed   Time    Time     Time  Current\n",
      "                                 Dload  Upload   Total   Spent    Left  Speed\n",
      "100 31728  100   240  100 31488  34285  4392k --:--:-- --:--:-- --:--:-- 4426k\n",
      "  % Total    % Received % Xferd  Average Speed   Time    Time     Time  Current\n",
      "                                 Dload  Upload   Total   Spent    Left  Speed\n",
      "100 31732  100   240  100 31492  34285  4393k --:--:-- --:--:-- --:--:-- 4426k\n",
      "  % Total    % Received % Xferd  Average Speed   Time    Time     Time  Current\n",
      "                                 Dload  Upload   Total   Spent    Left  Speed\n",
      "100 31666  100   240  100 31426  21818  2789k --:--:-- --:--:-- --:--:-- 2811k\n",
      "  % Total    % Received % Xferd  Average Speed   Time    Time     Time  Current\n",
      "                                 Dload  Upload   Total   Spent    Left  Speed\n",
      "100 31680  100   240  100 31440  26666  3411k --:--:-- --:--:-- --:--:-- 3437k\n",
      "  % Total    % Received % Xferd  Average Speed   Time    Time     Time  Current\n",
      "                                 Dload  Upload   Total   Spent    Left  Speed\n",
      "100 31727  100   240  100 31487  30000  3843k --:--:-- --:--:-- --:--:-- 3872k\n",
      "  % Total    % Received % Xferd  Average Speed   Time    Time     Time  Current\n",
      "                                 Dload  Upload   Total   Spent    Left  Speed\n",
      "100 31737  100   240  100 31497  26666  3417k --:--:-- --:--:-- --:--:-- 3443k\n",
      "  % Total    % Received % Xferd  Average Speed   Time    Time     Time  Current\n",
      "                                 Dload  Upload   Total   Spent    Left  Speed\n",
      "100 31763  100   240  100 31523  26666  3420k --:--:-- --:--:-- --:--:-- 3446k\n",
      "  % Total    % Received % Xferd  Average Speed   Time    Time     Time  Current\n",
      "                                 Dload  Upload   Total   Spent    Left  Speed\n",
      "100 31736  100   240  100 31496  26666  3417k --:--:-- --:--:-- --:--:-- 3443k\n",
      "  % Total    % Received % Xferd  Average Speed   Time    Time     Time  Current\n",
      "                                 Dload  Upload   Total   Spent    Left  Speed\n",
      "100 31722  100   240  100 31482  34285  4392k --:--:-- --:--:-- --:--:-- 4425k\n",
      "  % Total    % Received % Xferd  Average Speed   Time    Time     Time  Current\n",
      "                                 Dload  Upload   Total   Spent    Left  Speed\n",
      "100 31742  100   240  100 31502  30000  3845k --:--:-- --:--:-- --:--:-- 3874k\n",
      "  % Total    % Received % Xferd  Average Speed   Time    Time     Time  Current\n",
      "                                 Dload  Upload   Total   Spent    Left  Speed\n",
      "100 31709  100   240  100 31469  26666  3414k --:--:-- --:--:-- --:--:-- 3440k\n",
      "  % Total    % Received % Xferd  Average Speed   Time    Time     Time  Current\n",
      "                                 Dload  Upload   Total   Spent    Left  Speed\n",
      "100 31739  100   240  100 31499  30000  3845k --:--:-- --:--:-- --:--:-- 3874k\n",
      "  % Total    % Received % Xferd  Average Speed   Time    Time     Time  Current\n",
      "                                 Dload  Upload   Total   Spent    Left  Speed\n",
      "100 31711  100   240  100 31471  34285  4390k --:--:-- --:--:-- --:--:-- 4423k\n",
      "  % Total    % Received % Xferd  Average Speed   Time    Time     Time  Current\n",
      "                                 Dload  Upload   Total   Spent    Left  Speed\n",
      "100 31743  100   240  100 31503  34285  4394k --:--:-- --:--:-- --:--:-- 4428k\n",
      "  % Total    % Received % Xferd  Average Speed   Time    Time     Time  Current\n",
      "                                 Dload  Upload   Total   Spent    Left  Speed\n",
      "100 31763  100   240  100 31523  34285  4397k --:--:-- --:--:-- --:--:-- 4431k\n",
      "  % Total    % Received % Xferd  Average Speed   Time    Time     Time  Current\n",
      "                                 Dload  Upload   Total   Spent    Left  Speed\n",
      "  0     0    0     0    0     0      0      0 --:--:-- --:--:-- --:--:--     0"
     ]
    },
    {
     "name": "stdout",
     "output_type": "stream",
     "text": [
      "Eval Acc 0.98875\n",
      "Eval AUC 0.9560205282552914\n"
     ]
    },
    {
     "name": "stderr",
     "output_type": "stream",
     "text": [
      "100 31729  100   240  100 31489  34285  4392k --:--:-- --:--:-- --:--:-- 4426k\n",
      "  % Total    % Received % Xferd  Average Speed   Time    Time     Time  Current\n",
      "                                 Dload  Upload   Total   Spent    Left  Speed\n",
      "100 31765  100   240  100 31525  30000  3848k --:--:-- --:--:-- --:--:-- 4431k\n",
      "  % Total    % Received % Xferd  Average Speed   Time    Time     Time  Current\n",
      "                                 Dload  Upload   Total   Spent    Left  Speed\n",
      "100 31812  100   240  100 31572  30000  3854k --:--:-- --:--:-- --:--:-- 3883k\n"
     ]
    }
   ],
   "source": [
    "test = df.iloc[:8000]\n",
    "true = test.Class\n",
    "test = scaler.transform(test.drop([\"Time\", \"Class\"], axis=1))\n",
    "preds = []\n",
    "batch_size = 80\n",
    "for f in range(100):\n",
    "    sample = pd.DataFrame(test[f*batch_size:(f+1)*batch_size]).to_json(orient=\"split\")\n",
    "    proc = subprocess.run([\"curl\", \"-X\", \"POST\", \"-H\",\n",
    "                            \"Content-Type:application/json; format=pandas-split\", \"--data\",\n",
    "                            sample, \"http://127.0.0.1:1235/invocations\"],\n",
    "                            stdout=subprocess.PIPE,\n",
    "                            encoding='utf-8')\n",
    "\n",
    "    output = proc.stdout\n",
    "    resp = pd.DataFrame([json.loads(output)])\n",
    "    preds = np.concatenate((preds, resp.values[0]))\n",
    "\n",
    "eval_acc = accuracy_score(true, preds)\n",
    "eval_auc = roc_auc_score(true, preds)\n",
    "print(\"Eval Acc\", eval_acc)\n",
    "print(\"Eval AUC\", eval_auc)"
   ]
  },
  {
   "cell_type": "code",
   "execution_count": 16,
   "id": "be4f656f-e6df-40c2-a75c-7f572a804a56",
   "metadata": {},
   "outputs": [
    {
     "data": {
      "text/plain": [
       "Text(0.5, 1.0, 'Confusion Matrix')"
      ]
     },
     "execution_count": 16,
     "metadata": {},
     "output_type": "execute_result"
    },
    {
     "data": {
      "image/png": "[encoded data removed]",
      "text/plain": [
       "<Figure size 432x288 with 2 Axes>"
      ]
     },
     "metadata": {
      "needs_background": "light"
     },
     "output_type": "display_data"
    },
    {
     "name": "stderr",
     "output_type": "stream",
     "text": [
      "21/08/24 11:33:40 WARN HeartbeatReceiver: Removing executor driver with no recent heartbeats: 949009 ms exceeds timeout 120000 ms\n",
      "21/08/24 11:33:41 WARN SparkContext: Killing executors is not supported by current scheduler.\n"
     ]
    }
   ],
   "source": [
    "conf_matrix = confusion_matrix(true, preds).T\n",
    "ax = sns.heatmap(conf_matrix, annot=True,fmt='g')\n",
    "ax.invert_xaxis()\n",
    "ax.invert_yaxis()\n",
    "plt.xlabel('Actual')\n",
    "plt.ylabel('Predicted')\n",
    "plt.title(\"Confusion Matrix\")"
   ]
  },
  {
   "cell_type": "code",
   "execution_count": null,
   "id": "429cffaf-c15b-401c-83ed-06709c91d796",
   "metadata": {},
   "outputs": [],
   "source": []
  },
  {
   "cell_type": "code",
   "execution_count": null,
   "id": "684b7930-a214-4410-a658-e6f38427b288",
   "metadata": {},
   "outputs": [],
   "source": []
  },
  {
   "cell_type": "code",
   "execution_count": null,
   "id": "3f8d0d0e-4902-42d0-91d9-83354957194e",
   "metadata": {},
   "outputs": [],
   "source": []
  },
  {
   "cell_type": "code",
   "execution_count": null,
   "id": "4b0e356a-170c-46f3-81da-3d23081d7fd9",
   "metadata": {},
   "outputs": [],
   "source": []
  },
  {
   "cell_type": "code",
   "execution_count": null,
   "id": "8dbae474-d13b-4f33-a527-bf9f6ec404fc",
   "metadata": {},
   "outputs": [],
   "source": []
  },
  {
   "cell_type": "code",
   "execution_count": null,
   "id": "0e9550ea-c5a8-44c8-bfd6-72e287f743e6",
   "metadata": {},
   "outputs": [],
   "source": []
  }
 ],
 "metadata": {
  "kernelspec": {
   "display_name": "Python 3 (ipykernel)",
   "language": "python",
   "name": "python3"
  },
  "language_info": {
   "codemirror_mode": {
    "name": "ipython",
    "version": 3
   },
   "file_extension": ".py",
   "mimetype": "text/x-python",
   "name": "python",
   "nbconvert_exporter": "python",
   "pygments_lexer": "ipython3",
   "version": "3.8.10"
  }
 },
 "nbformat": 4,
 "nbformat_minor": 5
}
