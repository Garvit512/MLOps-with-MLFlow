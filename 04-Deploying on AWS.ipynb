{
 "cells": [
  {
   "cell_type": "markdown",
   "id": "3b4cc492-699b-4774-ba69-f2ed6c0933a3",
   "metadata": {},
   "source": [
    "CreatedBy - Garvit Kumar Arya\n",
    "\n",
    "Date - 26 August 2021"
   ]
  },
  {
   "cell_type": "code",
   "execution_count": 1,
   "id": "b0fa569f-c12d-4ee7-a2e3-ca4988eb901d",
   "metadata": {},
   "outputs": [],
   "source": [
    "import subprocess"
   ]
  },
  {
   "cell_type": "markdown",
   "id": "f9f98880-8a17-4286-9c73-3e017f121f24",
   "metadata": {},
   "source": [
    "## Uploading *mlruns* directory to S3"
   ]
  },
  {
   "cell_type": "code",
   "execution_count": 5,
   "id": "de2515d9-b92c-4e2d-a171-f0bf01fbb616",
   "metadata": {},
   "outputs": [
    {
     "name": "stdout",
     "output_type": "stream",
     "text": [
      "\n",
      "\n",
      "Saved to bucket:  garvit-mlops-sagemaker-runs-bucket\n"
     ]
    }
   ],
   "source": [
    "s3_bucket_name = \"garvit-mlops-sagemaker-runs-bucket\"\n",
    "mlruns_direc = \"./mlruns/\"\n",
    "\n",
    "# output = subprocess.run([\"aws\", \"s3\", \"sync\", \"{}\".format(mlruns_direc), \"s3://{}\".format(s3_bucket_name)], stdout=subprocess.PIPE, encoding='utf-8')\n",
    "output = subprocess.run(f\"aws s3 sync {mlruns_direc} s3://{s3_bucket_name}\")\n",
    "print(output.stdout)\n",
    "print(\"\\nSaved to bucket: \", s3_bucket_name)"
   ]
  },
  {
   "cell_type": "markdown",
   "id": "03283a99-d8f4-4dc7-9ffd-243611bfeb77",
   "metadata": {},
   "source": [
    "## Deploying "
   ]
  },
  {
   "cell_type": "code",
   "execution_count": 18,
   "id": "2c09579f-f4c4-49d1-9f70-761dd1e8928d",
   "metadata": {},
   "outputs": [
    {
     "name": "stdout",
     "output_type": "stream",
     "text": [
      "s3://garvit-mlops-sagemaker-runs-bucket/1/0a3bfd1192bd4f189a14d4522b902a01/artifacts/log_reg_model\n"
     ]
    }
   ],
   "source": [
    "import boto3\n",
    "import mlflow.sagemaker as mfs\n",
    "import json\n",
    "\n",
    "app_name = \"mlops-sagemaker\"\n",
    "execution_role_arn = \"arn:aws:iam::113605498884:role/Sagemaker-S3-ECR-role\"\n",
    "image_ecr_url = \"113605498884.dkr.ecr.us-east-2.amazonaws.com/mlflow-pyfunc:1.19.0\"\n",
    "region = \"us-east-2\"\n",
    "\n",
    "s3_bucket_name = \"garvit-mlops-sagemaker-runs-bucket\"\n",
    "experiment_id = \"1\"\n",
    "run_id = \"0a3bfd1192bd4f189a14d4522b902a01\"\n",
    "model_name = \"log_reg_model\"\n",
    "\n",
    "# model_uri = f\"s3://{s3_bucket_name}/{experiment_id}/{run_id}/{model_name}\"\n",
    "model_uri = \"s3://garvit-mlops-sagemaker-runs-bucket/1/0a3bfd1192bd4f189a14d4522b902a01/artifacts/log_reg_model\"\n",
    "print(model_uri)"
   ]
  },
  {
   "cell_type": "code",
   "execution_count": 19,
   "id": "827775b7-28c6-4ec7-b67b-63aeeb36f25b",
   "metadata": {},
   "outputs": [
    {
     "name": "stderr",
     "output_type": "stream",
     "text": [
      "2021/08/26 17:11:18 INFO mlflow.sagemaker: Using the python_function flavor for deployment!\n",
      "2021/08/26 17:11:21 INFO mlflow.sagemaker: No model data bucket specified, using the default bucket\n",
      "2021/08/26 17:11:27 INFO mlflow.sagemaker: Default bucket `mlflow-sagemaker-us-east-2-113605498884` not found. Creating...\n",
      "2021/08/26 17:11:32 INFO mlflow.sagemaker: Bucket creation response: {'ResponseMetadata': {'RequestId': 'HQDRJS6X97K8Q825', 'HostId': 'ODu+q92MUsKxBamc126MsNp/xDGQ/j9S/K3/IlwND2HSnBVK58fURqrIKr4ngiCLOCGGVXMzw8U=', 'HTTPStatusCode': 200, 'HTTPHeaders': {'x-amz-id-2': 'ODu+q92MUsKxBamc126MsNp/xDGQ/j9S/K3/IlwND2HSnBVK58fURqrIKr4ngiCLOCGGVXMzw8U=', 'x-amz-request-id': 'HQDRJS6X97K8Q825', 'date': 'Thu, 26 Aug 2021 11:41:33 GMT', 'location': 'http://mlflow-sagemaker-us-east-2-113605498884.s3.amazonaws.com/', 'server': 'AmazonS3', 'content-length': '0'}, 'RetryAttempts': 0}, 'Location': 'http://mlflow-sagemaker-us-east-2-113605498884.s3.amazonaws.com/'}\n",
      "2021/08/26 17:11:35 INFO mlflow.sagemaker: tag response: {'ResponseMetadata': {'RequestId': 'KQDW35D0YNQR2HHJ', 'HostId': 'PltKIlAdxmfnHhelJWTRC0cohhFrWz/LnBL4dZoxpWg1AIbWeINTMEDCjF/hYk9KKVkCzg5rA0w=', 'HTTPStatusCode': 200, 'HTTPHeaders': {'x-amz-id-2': 'PltKIlAdxmfnHhelJWTRC0cohhFrWz/LnBL4dZoxpWg1AIbWeINTMEDCjF/hYk9KKVkCzg5rA0w=', 'x-amz-request-id': 'KQDW35D0YNQR2HHJ', 'date': 'Thu, 26 Aug 2021 11:41:36 GMT', 'server': 'AmazonS3', 'content-length': '0'}, 'RetryAttempts': 0}}\n",
      "2021/08/26 17:11:35 INFO mlflow.sagemaker: Creating new endpoint with name: mlops-sagemaker ...\n",
      "2021/08/26 17:11:38 INFO mlflow.sagemaker: Created model with arn: arn:aws:sagemaker:us-east-2:113605498884:model/mlops-sagemaker-model-0meabatsfqqeipabnkgdddoq\n",
      "2021/08/26 17:11:39 INFO mlflow.sagemaker: Created endpoint configuration with arn: arn:aws:sagemaker:us-east-2:113605498884:endpoint-config/mlops-sagemaker-config-4k1cr41rsnamq7tfwmuilq\n",
      "2021/08/26 17:11:39 INFO mlflow.sagemaker: Created endpoint with arn: arn:aws:sagemaker:us-east-2:113605498884:endpoint/mlops-sagemaker\n",
      "2021/08/26 17:11:39 INFO mlflow.sagemaker: Waiting for the deployment operation to complete...\n",
      "2021/08/26 17:11:39 INFO mlflow.sagemaker: Waiting for endpoint to reach the \"InService\" state. Current endpoint status: \"Creating\"\n",
      "2021/08/26 17:12:00 INFO mlflow.sagemaker: Waiting for endpoint to reach the \"InService\" state. Current endpoint status: \"Creating\"\n",
      "2021/08/26 17:12:22 INFO mlflow.sagemaker: Waiting for endpoint to reach the \"InService\" state. Current endpoint status: \"Creating\"\n",
      "2021/08/26 17:12:43 INFO mlflow.sagemaker: Waiting for endpoint to reach the \"InService\" state. Current endpoint status: \"Creating\"\n",
      "2021/08/26 17:13:05 INFO mlflow.sagemaker: Waiting for endpoint to reach the \"InService\" state. Current endpoint status: \"Creating\"\n",
      "2021/08/26 17:13:26 INFO mlflow.sagemaker: Waiting for endpoint to reach the \"InService\" state. Current endpoint status: \"Creating\"\n",
      "2021/08/26 17:13:47 INFO mlflow.sagemaker: Waiting for endpoint to reach the \"InService\" state. Current endpoint status: \"Creating\"\n",
      "2021/08/26 17:14:08 INFO mlflow.sagemaker: Waiting for endpoint to reach the \"InService\" state. Current endpoint status: \"Creating\"\n",
      "2021/08/26 17:14:30 INFO mlflow.sagemaker: Waiting for endpoint to reach the \"InService\" state. Current endpoint status: \"Creating\"\n",
      "2021/08/26 17:14:51 INFO mlflow.sagemaker: Waiting for endpoint to reach the \"InService\" state. Current endpoint status: \"Creating\"\n",
      "2021/08/26 17:15:12 INFO mlflow.sagemaker: Waiting for endpoint to reach the \"InService\" state. Current endpoint status: \"Creating\"\n",
      "2021/08/26 17:15:36 INFO mlflow.sagemaker: Waiting for endpoint to reach the \"InService\" state. Current endpoint status: \"Creating\"\n",
      "2021/08/26 17:15:57 INFO mlflow.sagemaker: Waiting for endpoint to reach the \"InService\" state. Current endpoint status: \"Creating\"\n",
      "2021/08/26 17:16:19 INFO mlflow.sagemaker: Waiting for endpoint to reach the \"InService\" state. Current endpoint status: \"Creating\"\n",
      "2021/08/26 17:16:40 INFO mlflow.sagemaker: Waiting for endpoint to reach the \"InService\" state. Current endpoint status: \"Creating\"\n",
      "2021/08/26 17:17:01 INFO mlflow.sagemaker: Waiting for endpoint to reach the \"InService\" state. Current endpoint status: \"Creating\"\n",
      "2021/08/26 17:17:23 INFO mlflow.sagemaker: Waiting for endpoint to reach the \"InService\" state. Current endpoint status: \"Creating\"\n",
      "2021/08/26 17:17:45 INFO mlflow.sagemaker: Waiting for endpoint to reach the \"InService\" state. Current endpoint status: \"Creating\"\n",
      "2021/08/26 17:18:06 INFO mlflow.sagemaker: Waiting for endpoint to reach the \"InService\" state. Current endpoint status: \"Creating\"\n",
      "2021/08/26 17:18:27 INFO mlflow.sagemaker: Waiting for endpoint to reach the \"InService\" state. Current endpoint status: \"Creating\"\n",
      "2021/08/26 17:18:49 INFO mlflow.sagemaker: Waiting for endpoint to reach the \"InService\" state. Current endpoint status: \"Creating\"\n",
      "2021/08/26 17:18:54 INFO mlflow.sagemaker: The deployment operation completed successfully with message: \"The SageMaker endpoint was created successfully.\"\n"
     ]
    }
   ],
   "source": [
    "mfs.deploy(app_name=app_name,\n",
    "            model_uri=model_uri,\n",
    "            execution_role_arn=execution_role_arn,\n",
    "            region_name=region,\n",
    "            image_url=image_ecr_url,\n",
    "            mode=mfs.DEPLOYMENT_MODE_CREATE)"
   ]
  },
  {
   "cell_type": "markdown",
   "id": "1c5c840b-c757-4998-9ad8-486a079047a8",
   "metadata": {},
   "source": [
    "## Making Predictions"
   ]
  },
  {
   "cell_type": "code",
   "execution_count": 24,
   "id": "25b13fa8-7141-46e0-905a-eac8d1d18d89",
   "metadata": {},
   "outputs": [],
   "source": [
    "def query(input_json):\n",
    "    client = boto3.session.Session().client(\"sagemaker-runtime\", region)\n",
    "    response = client.invoke_endpoint(EndpointName=app_name,\n",
    "                                        Body=input_json,\n",
    "                                        ContentType='application/json; format=pandas-split',)\n",
    "    preds = response['Body'].read().decode(\"ascii\")\n",
    "    preds = json.loads(preds)\n",
    "    return preds"
   ]
  },
  {
   "cell_type": "code",
   "execution_count": 25,
   "id": "1f5eb966-ff52-463a-bfeb-1b98636c537c",
   "metadata": {},
   "outputs": [
    {
     "data": {
      "text/html": [
       "<div>\n",
       "<style scoped>\n",
       "    .dataframe tbody tr th:only-of-type {\n",
       "        vertical-align: middle;\n",
       "    }\n",
       "\n",
       "    .dataframe tbody tr th {\n",
       "        vertical-align: top;\n",
       "    }\n",
       "\n",
       "    .dataframe thead th {\n",
       "        text-align: right;\n",
       "    }\n",
       "</style>\n",
       "<table border=\"1\" class=\"dataframe\">\n",
       "  <thead>\n",
       "    <tr style=\"text-align: right;\">\n",
       "      <th></th>\n",
       "      <th>0</th>\n",
       "      <th>1</th>\n",
       "      <th>2</th>\n",
       "      <th>3</th>\n",
       "      <th>4</th>\n",
       "      <th>5</th>\n",
       "      <th>6</th>\n",
       "      <th>7</th>\n",
       "      <th>8</th>\n",
       "      <th>9</th>\n",
       "      <th>10</th>\n",
       "      <th>11</th>\n",
       "      <th>12</th>\n",
       "      <th>13</th>\n",
       "      <th>14</th>\n",
       "      <th>15</th>\n",
       "      <th>16</th>\n",
       "      <th>17</th>\n",
       "      <th>18</th>\n",
       "      <th>19</th>\n",
       "      <th>20</th>\n",
       "      <th>21</th>\n",
       "      <th>22</th>\n",
       "      <th>23</th>\n",
       "      <th>24</th>\n",
       "      <th>25</th>\n",
       "      <th>26</th>\n",
       "      <th>27</th>\n",
       "      <th>28</th>\n",
       "      <th>29</th>\n",
       "      <th>30</th>\n",
       "      <th>31</th>\n",
       "      <th>32</th>\n",
       "      <th>33</th>\n",
       "      <th>34</th>\n",
       "      <th>35</th>\n",
       "      <th>36</th>\n",
       "      <th>37</th>\n",
       "      <th>38</th>\n",
       "      <th>39</th>\n",
       "      <th>40</th>\n",
       "      <th>41</th>\n",
       "      <th>42</th>\n",
       "      <th>43</th>\n",
       "      <th>44</th>\n",
       "      <th>45</th>\n",
       "      <th>46</th>\n",
       "      <th>47</th>\n",
       "      <th>48</th>\n",
       "      <th>49</th>\n",
       "      <th>50</th>\n",
       "      <th>51</th>\n",
       "      <th>52</th>\n",
       "      <th>53</th>\n",
       "      <th>54</th>\n",
       "      <th>55</th>\n",
       "      <th>56</th>\n",
       "      <th>57</th>\n",
       "      <th>58</th>\n",
       "      <th>59</th>\n",
       "      <th>60</th>\n",
       "      <th>61</th>\n",
       "      <th>62</th>\n",
       "      <th>63</th>\n",
       "      <th>64</th>\n",
       "      <th>65</th>\n",
       "      <th>66</th>\n",
       "      <th>67</th>\n",
       "      <th>68</th>\n",
       "      <th>69</th>\n",
       "      <th>70</th>\n",
       "      <th>71</th>\n",
       "      <th>72</th>\n",
       "      <th>73</th>\n",
       "      <th>74</th>\n",
       "      <th>75</th>\n",
       "      <th>76</th>\n",
       "      <th>77</th>\n",
       "      <th>78</th>\n",
       "      <th>79</th>\n",
       "    </tr>\n",
       "  </thead>\n",
       "  <tbody>\n",
       "    <tr>\n",
       "      <th>0</th>\n",
       "      <td>0</td>\n",
       "      <td>0</td>\n",
       "      <td>0</td>\n",
       "      <td>0</td>\n",
       "      <td>0</td>\n",
       "      <td>0</td>\n",
       "      <td>0</td>\n",
       "      <td>0</td>\n",
       "      <td>0</td>\n",
       "      <td>0</td>\n",
       "      <td>0</td>\n",
       "      <td>0</td>\n",
       "      <td>0</td>\n",
       "      <td>0</td>\n",
       "      <td>0</td>\n",
       "      <td>0</td>\n",
       "      <td>0</td>\n",
       "      <td>0</td>\n",
       "      <td>0</td>\n",
       "      <td>0</td>\n",
       "      <td>0</td>\n",
       "      <td>0</td>\n",
       "      <td>0</td>\n",
       "      <td>0</td>\n",
       "      <td>0</td>\n",
       "      <td>0</td>\n",
       "      <td>0</td>\n",
       "      <td>0</td>\n",
       "      <td>0</td>\n",
       "      <td>0</td>\n",
       "      <td>0</td>\n",
       "      <td>0</td>\n",
       "      <td>0</td>\n",
       "      <td>0</td>\n",
       "      <td>0</td>\n",
       "      <td>0</td>\n",
       "      <td>0</td>\n",
       "      <td>0</td>\n",
       "      <td>0</td>\n",
       "      <td>0</td>\n",
       "      <td>0</td>\n",
       "      <td>0</td>\n",
       "      <td>0</td>\n",
       "      <td>0</td>\n",
       "      <td>0</td>\n",
       "      <td>0</td>\n",
       "      <td>0</td>\n",
       "      <td>0</td>\n",
       "      <td>0</td>\n",
       "      <td>0</td>\n",
       "      <td>0</td>\n",
       "      <td>0</td>\n",
       "      <td>0</td>\n",
       "      <td>0</td>\n",
       "      <td>0</td>\n",
       "      <td>0</td>\n",
       "      <td>0</td>\n",
       "      <td>0</td>\n",
       "      <td>0</td>\n",
       "      <td>0</td>\n",
       "      <td>0</td>\n",
       "      <td>0</td>\n",
       "      <td>0</td>\n",
       "      <td>0</td>\n",
       "      <td>0</td>\n",
       "      <td>0</td>\n",
       "      <td>0</td>\n",
       "      <td>0</td>\n",
       "      <td>0</td>\n",
       "      <td>0</td>\n",
       "      <td>0</td>\n",
       "      <td>0</td>\n",
       "      <td>0</td>\n",
       "      <td>0</td>\n",
       "      <td>0</td>\n",
       "      <td>0</td>\n",
       "      <td>0</td>\n",
       "      <td>0</td>\n",
       "      <td>0</td>\n",
       "      <td>0</td>\n",
       "    </tr>\n",
       "  </tbody>\n",
       "</table>\n",
       "</div>"
      ],
      "text/plain": [
       "   0   1   2   3   4   5   6   7   8   ...  71  72  73  74  75  76  77  78  79\n",
       "0   0   0   0   0   0   0   0   0   0  ...   0   0   0   0   0   0   0   0   0\n",
       "\n",
       "[1 rows x 80 columns]"
      ]
     },
     "execution_count": 25,
     "metadata": {},
     "output_type": "execute_result"
    }
   ],
   "source": [
    "import pandas as pd\n",
    "import mlflow\n",
    "import mlflow.sklearn\n",
    "import seaborn as sns\n",
    "import matplotlib.pyplot as plt\n",
    "from sklearn.preprocessing import StandardScaler\n",
    "from sklearn.model_selection import train_test_split\n",
    "from sklearn.metrics import roc_auc_score, accuracy_score, confusion_matrix\n",
    "import numpy as np\n",
    "\n",
    "data_path = \"/home/garvit/Documents/work_area/Anaconda_Workspace/misc/MLOps with MLFlow/archive/creditcard.csv\"\n",
    "df = pd.read_csv(data_path)\n",
    "\n",
    "normal = df[df.Class == 0].sample(frac=0.5, random_state=2020).reset_index(drop=True)\n",
    "anomaly = df[df.Class == 1]\n",
    "normal_train, normal_test = train_test_split(normal, test_size = 0.2, random_state = 2020)\n",
    "anomaly_train, anomaly_test = train_test_split(anomaly, test_size = 0.2, random_state = 2020)\n",
    "\n",
    "scaler = StandardScaler()\n",
    "scaler.fit(pd.concat((normal, anomaly)).drop([\"Time\",\"Class\"], axis=1))\n",
    "\n",
    "scaled_selection = scaler.transform(df.iloc[:80].drop([\"Time\", \"Class\"], axis=1))\n",
    "input_json = pd.DataFrame(scaled_selection).to_json(orient=\"split\")\n",
    "pd.DataFrame(query(input_json)).T"
   ]
  },
  {
   "cell_type": "code",
   "execution_count": 27,
   "id": "a134bea3-e6ca-4225-88ed-58c7aebb2ab5",
   "metadata": {},
   "outputs": [
    {
     "name": "stdout",
     "output_type": "stream",
     "text": [
      "Batch 0 - Completed\n",
      "Batch 1 - Completed\n",
      "Batch 2 - Completed\n",
      "Batch 3 - Completed\n",
      "Batch 4 - Completed\n",
      "Batch 5 - Completed\n",
      "Batch 6 - Completed\n",
      "Batch 7 - Completed\n",
      "Batch 8 - Completed\n",
      "Batch 9 - Completed\n",
      "Batch 10 - Completed\n",
      "Batch 11 - Completed\n",
      "Batch 12 - Completed\n",
      "Batch 13 - Completed\n",
      "Batch 14 - Completed\n",
      "Batch 15 - Completed\n",
      "Batch 16 - Completed\n",
      "Batch 17 - Completed\n",
      "Batch 18 - Completed\n",
      "Batch 19 - Completed\n",
      "Batch 20 - Completed\n",
      "Batch 21 - Completed\n",
      "Batch 22 - Completed\n",
      "Batch 23 - Completed\n",
      "Batch 24 - Completed\n",
      "Eval Acc 0.9915\n",
      "Eval AUC 0.915\n"
     ]
    }
   ],
   "source": [
    "test = pd.concat((normal.iloc[:1900], anomaly.iloc[:100]))\n",
    "true = test.Class\n",
    "test = scaler.transform(test.drop([\"Time\", \"Class\"], axis=1))\n",
    "preds = []\n",
    "\n",
    "\n",
    "batch_size = 80\n",
    "for f in range(25):\n",
    "    print(f\"Batch {f}\", end=\" - \")\n",
    "    sample = pd.DataFrame(test[f*batch_size:(f+1)*batch_size]).to_json(orient=\"split\")\n",
    "    output = query(sample)\n",
    "    resp = pd.DataFrame([output])\n",
    "    preds = np.concatenate((preds, resp.values[0]))\n",
    "    print(\"Completed\")\n",
    "\n",
    "eval_acc = accuracy_score(true, preds)\n",
    "eval_auc = roc_auc_score(true, preds)\n",
    "print(\"Eval Acc\", eval_acc)\n",
    "print(\"Eval AUC\", eval_auc)\n"
   ]
  },
  {
   "cell_type": "markdown",
   "id": "8985b79b-558d-48e3-abbe-fc54ca954aeb",
   "metadata": {},
   "source": [
    "## Switching Models"
   ]
  },
  {
   "cell_type": "code",
   "execution_count": 29,
   "id": "eaa9138d-164f-47af-9353-73c0d50d822d",
   "metadata": {},
   "outputs": [
    {
     "name": "stdout",
     "output_type": "stream",
     "text": [
      "s3://garvit-mlops-sagemaker-runs-bucket/1/6e3b3920708345cd94e5cf1d22ceaee1/artifacts/log_reg_model/\n"
     ]
    },
    {
     "name": "stderr",
     "output_type": "stream",
     "text": [
      "2021/08/26 17:42:27 INFO mlflow.sagemaker: Using the python_function flavor for deployment!\n",
      "2021/08/26 17:42:32 INFO mlflow.sagemaker: No model data bucket specified, using the default bucket\n",
      "2021/08/26 17:42:37 INFO mlflow.sagemaker: Default bucket `mlflow-sagemaker-us-east-2-113605498884` already exists. Skipping creation.\n",
      "2021/08/26 17:42:42 INFO mlflow.sagemaker: tag response: {'ResponseMetadata': {'RequestId': 'JS0K7CJHQSTJ6PSR', 'HostId': 'p/1FUf+IYFmFAQ0GVKfr0d1xNe3HfWWXgfCdfd7ZDsB8VdrfRZ8DXCTPxytAC/exvoGq4lYw2Uw=', 'HTTPStatusCode': 200, 'HTTPHeaders': {'x-amz-id-2': 'p/1FUf+IYFmFAQ0GVKfr0d1xNe3HfWWXgfCdfd7ZDsB8VdrfRZ8DXCTPxytAC/exvoGq4lYw2Uw=', 'x-amz-request-id': 'JS0K7CJHQSTJ6PSR', 'date': 'Thu, 26 Aug 2021 12:12:43 GMT', 'server': 'AmazonS3', 'content-length': '0'}, 'RetryAttempts': 0}}\n",
      "2021/08/26 17:42:44 INFO mlflow.sagemaker: Found active endpoint with arn: arn:aws:sagemaker:us-east-2:113605498884:endpoint/mlops-sagemaker. Updating...\n",
      "2021/08/26 17:42:44 INFO mlflow.sagemaker: Created new model with arn: arn:aws:sagemaker:us-east-2:113605498884:model/mlops-sagemaker-model-tudehbplru2zke5tfyxq9g\n",
      "2021/08/26 17:42:44 INFO mlflow.sagemaker: Created new endpoint configuration with arn: arn:aws:sagemaker:us-east-2:113605498884:endpoint-config/mlops-sagemaker-config-vt1lmj67sdkr1blffjf4yq\n",
      "2021/08/26 17:42:45 INFO mlflow.sagemaker: Updated endpoint with new configuration!\n",
      "2021/08/26 17:42:45 INFO mlflow.sagemaker: Waiting for the deployment operation to complete...\n",
      "2021/08/26 17:42:45 INFO mlflow.sagemaker: The operation is still in progress.\n",
      "2021/08/26 17:43:06 INFO mlflow.sagemaker: The update operation is still in progress. Current endpoint status: \"Updating\"\n",
      "2021/08/26 17:43:28 INFO mlflow.sagemaker: The update operation is still in progress. Current endpoint status: \"Updating\"\n",
      "2021/08/26 17:43:49 INFO mlflow.sagemaker: The update operation is still in progress. Current endpoint status: \"Updating\"\n",
      "2021/08/26 17:44:11 INFO mlflow.sagemaker: The update operation is still in progress. Current endpoint status: \"Updating\"\n",
      "2021/08/26 17:44:32 INFO mlflow.sagemaker: The update operation is still in progress. Current endpoint status: \"Updating\"\n",
      "2021/08/26 17:44:53 INFO mlflow.sagemaker: The update operation is still in progress. Current endpoint status: \"Updating\"\n",
      "2021/08/26 17:45:15 INFO mlflow.sagemaker: The update operation is still in progress. Current endpoint status: \"Updating\"\n",
      "2021/08/26 17:45:36 INFO mlflow.sagemaker: The update operation is still in progress. Current endpoint status: \"Updating\"\n",
      "2021/08/26 17:45:58 INFO mlflow.sagemaker: The update operation is still in progress. Current endpoint status: \"Updating\"\n",
      "2021/08/26 17:46:19 INFO mlflow.sagemaker: The update operation is still in progress. Current endpoint status: \"Updating\"\n",
      "2021/08/26 17:46:40 INFO mlflow.sagemaker: The update operation is still in progress. Current endpoint status: \"Updating\"\n",
      "2021/08/26 17:47:04 INFO mlflow.sagemaker: The update operation is still in progress. Current endpoint status: \"Updating\"\n",
      "2021/08/26 17:47:26 INFO mlflow.sagemaker: The update operation is still in progress. Current endpoint status: \"Updating\"\n",
      "2021/08/26 17:47:47 INFO mlflow.sagemaker: The update operation is still in progress. Current endpoint status: \"Updating\"\n",
      "2021/08/26 17:48:08 INFO mlflow.sagemaker: The update operation is still in progress. Current endpoint status: \"Updating\"\n",
      "2021/08/26 17:48:30 INFO mlflow.sagemaker: The update operation is still in progress. Current endpoint status: \"Updating\"\n",
      "2021/08/26 17:48:51 INFO mlflow.sagemaker: The update operation is still in progress. Current endpoint status: \"Updating\"\n",
      "2021/08/26 17:48:56 INFO mlflow.sagemaker: The deployment operation completed successfully with message: \"The SageMaker endpoint was updated successfully.\"\n",
      "2021/08/26 17:48:56 INFO mlflow.sagemaker: Cleaning up unused resources...\n",
      "2021/08/26 17:49:02 INFO mlflow.sagemaker: Deleted model with arn: arn:aws:sagemaker:us-east-2:113605498884:model/mlops-sagemaker-model-0meabatsfqqeipabnkgdddoq\n",
      "2021/08/26 17:49:02 INFO mlflow.sagemaker: Deleted endpoint configuration with arn: arn:aws:sagemaker:us-east-2:113605498884:endpoint-config/mlops-sagemaker-config-4k1cr41rsnamq7tfwmuilq\n"
     ]
    }
   ],
   "source": [
    "new_run_id = \"6e3b3920708345cd94e5cf1d22ceaee1\"\n",
    "new_model_uri = \"s3://{}/{}/{}/artifacts/{}/\".format(s3_bucket_name, experiment_id, new_run_id, model_name)\n",
    "print(new_model_uri)\n",
    "\n",
    "mfs.deploy( app_name=app_name,\n",
    "            model_uri=new_model_uri,\n",
    "            execution_role_arn=execution_role_arn,\n",
    "            region_name=region,\n",
    "            image_url=image_ecr_url,\n",
    "            mode=mfs.DEPLOYMENT_MODE_REPLACE)"
   ]
  },
  {
   "cell_type": "markdown",
   "id": "e7bcc25d-514e-46ab-9648-c2b468de56ae",
   "metadata": {},
   "source": [
    "## Removing Deployed Model"
   ]
  },
  {
   "cell_type": "code",
   "execution_count": 31,
   "id": "277eadae-ba0f-4c00-a327-d5d899fabbf7",
   "metadata": {},
   "outputs": [
    {
     "name": "stderr",
     "output_type": "stream",
     "text": [
      "2021/08/26 18:12:51 INFO mlflow.sagemaker: Deleted endpoint with arn: arn:aws:sagemaker:us-east-2:113605498884:endpoint/mlops-sagemaker\n",
      "2021/08/26 18:12:51 INFO mlflow.sagemaker: Waiting for the delete operation to complete...\n",
      "2021/08/26 18:12:51 INFO mlflow.sagemaker: Deletion is still in progress. Current endpoint status: Deleting\n",
      "2021/08/26 18:12:57 INFO mlflow.sagemaker: The deletion operation completed successfully with message: \"The SageMaker endpoint was deleted successfully.\"\n",
      "2021/08/26 18:12:57 INFO mlflow.sagemaker: Cleaning up unused resources...\n",
      "2021/08/26 18:12:57 INFO mlflow.sagemaker: Deleted associated endpoint configuration with arn: arn:aws:sagemaker:us-east-2:113605498884:endpoint-config/mlops-sagemaker-config-vt1lmj67sdkr1blffjf4yq\n",
      "2021/08/26 18:12:59 INFO mlflow.sagemaker: Deleted associated model with arn: arn:aws:sagemaker:us-east-2:113605498884:model/mlops-sagemaker-model-tudehbplru2zke5tfyxq9g\n"
     ]
    }
   ],
   "source": [
    "mfs.delete(app_name=app_name,region_name=region)"
   ]
  },
  {
   "cell_type": "code",
   "execution_count": null,
   "id": "5f0dc4e5-a793-4094-9490-587107ce3942",
   "metadata": {},
   "outputs": [],
   "source": []
  },
  {
   "cell_type": "code",
   "execution_count": null,
   "id": "71c23f38-7255-4c63-815b-45d141e0e921",
   "metadata": {},
   "outputs": [],
   "source": []
  },
  {
   "cell_type": "code",
   "execution_count": null,
   "id": "855766ca-2d04-47b5-924e-b106c8cf55c4",
   "metadata": {},
   "outputs": [],
   "source": []
  },
  {
   "cell_type": "code",
   "execution_count": null,
   "id": "6960bed8-3867-4aba-ae22-ddbc75604bc8",
   "metadata": {},
   "outputs": [],
   "source": []
  },
  {
   "cell_type": "code",
   "execution_count": null,
   "id": "0ad4e5a5-2089-47f2-9ba5-bde3582b712b",
   "metadata": {},
   "outputs": [],
   "source": []
  }
 ],
 "metadata": {
  "kernelspec": {
   "display_name": "Python 3 (ipykernel)",
   "language": "python",
   "name": "python3"
  },
  "language_info": {
   "codemirror_mode": {
    "name": "ipython",
    "version": 3
   },
   "file_extension": ".py",
   "mimetype": "text/x-python",
   "name": "python",
   "nbconvert_exporter": "python",
   "pygments_lexer": "ipython3",
   "version": "3.8.10"
  }
 },
 "nbformat": 4,
 "nbformat_minor": 5
}
